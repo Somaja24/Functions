{
 "cells": [
  {
   "cell_type": "code",
   "execution_count": 8,
   "id": "8b32fe7b-8024-4f81-9458-0db486f48b4b",
   "metadata": {},
   "outputs": [
    {
     "name": "stdin",
     "output_type": "stream",
     "text": [
      "enter the money: 100\n",
      "enter the money: 50\n"
     ]
    },
    {
     "name": "stdout",
     "output_type": "stream",
     "text": [
      "total amount: 150\n"
     ]
    }
   ],
   "source": [
    "#function with parameters\n",
    "def add(students1,students2):\n",
    "    return students1+students\n",
    "students1=int(input(\"enter the money:\"))\n",
    "students2=int(input(\"enter the money:\"))\n",
    "total=add(students1,students2)\n",
    "print(\"total amount:\",total)"
   ]
  },
  {
   "cell_type": "code",
   "execution_count": 12,
   "id": "1d0b170b-1e44-4f9c-8cca-98a01c458046",
   "metadata": {},
   "outputs": [
    {
     "name": "stdin",
     "output_type": "stream",
     "text": [
      "enter the money: 11\n",
      "enter the money: 22\n"
     ]
    },
    {
     "name": "stdout",
     "output_type": "stream",
     "text": [
      "total: 33\n"
     ]
    }
   ],
   "source": [
    "#function with parameters\n",
    "def add(students1,students2):\n",
    "    print(\"total:\",students1+students2)\n",
    "students1=int(input(\"enter the money:\"))\n",
    "students2=int(input(\"enter the money:\"))\n",
    "add(students1,students2)"
   ]
  },
  {
   "cell_type": "code",
   "execution_count": 14,
   "id": "bb1dd806-30e8-415c-8bbe-0eee4a239a37",
   "metadata": {},
   "outputs": [
    {
     "name": "stdout",
     "output_type": "stream",
     "text": [
      "value in the function is 3.14159\n"
     ]
    }
   ],
   "source": [
    "def value():\n",
    "    return 3.14159\n",
    "result=value()\n",
    "print(\"value in the function is\",result)"
   ]
  },
  {
   "cell_type": "code",
   "execution_count": 39,
   "id": "9120f7e9-040a-4ab5-a3da-b9452d185756",
   "metadata": {},
   "outputs": [
    {
     "name": "stdout",
     "output_type": "stream",
     "text": [
      "120\n"
     ]
    }
   ],
   "source": [
    "a=100\n",
    "def value(a):\n",
    "    return a+20\n",
    "op=value(a)\n",
    "print(op)"
   ]
  },
  {
   "cell_type": "code",
   "execution_count": 41,
   "id": "6d1780b8-1851-468e-a037-3b53917421db",
   "metadata": {},
   "outputs": [
    {
     "name": "stdin",
     "output_type": "stream",
     "text": [
      "enter data: cat\n"
     ]
    },
    {
     "name": "stdout",
     "output_type": "stream",
     "text": [
      "hello cat\n"
     ]
    }
   ],
   "source": [
    "def hi(name):\n",
    "    print(\"hello\",name)\n",
    "a=input(\"enter data:\")\n",
    "hi(a)"
   ]
  },
  {
   "cell_type": "code",
   "execution_count": 47,
   "id": "34ed52b1-0ef8-4fa1-9e84-76a85d8dad0c",
   "metadata": {},
   "outputs": [
    {
     "name": "stdout",
     "output_type": "stream",
     "text": [
      "name: ram\n",
      "age: 32\n",
      "name: marks\n",
      "age: 0\n",
      "name: unknown\n",
      "age: 33\n",
      "name: unknown\n",
      "age: 0\n"
     ]
    }
   ],
   "source": [
    "def info(name='unknown',age=0):\n",
    "    print(\"name:\",name)\n",
    "    print(\"age:\",age)\n",
    "info(\"ram\",32)\n",
    "info(\"marks\")\n",
    "info(age=33)\n",
    "info()"
   ]
  },
  {
   "cell_type": "code",
   "execution_count": 53,
   "id": "dc5e02cd-4063-4043-a027-56f09f0b9e91",
   "metadata": {},
   "outputs": [
    {
     "name": "stdin",
     "output_type": "stream",
     "text": [
      "enter a: 2\n",
      "enter b: 3\n"
     ]
    },
    {
     "name": "stdout",
     "output_type": "stream",
     "text": [
      "sum= 5\n",
      "subtract= -1\n",
      "product= 6\n",
      "divide= 0.6666666666666666\n"
     ]
    }
   ],
   "source": [
    "def cal(a,b):\n",
    "    return a+b,a-b,a*b,a/b\n",
    "a=int(input(\"enter a:\"))\n",
    "b=int(input(\"enter b:\"))\n",
    "sum,diff,pro,div=cal(a,b)\n",
    "print(\"sum=\",sum)\n",
    "print(\"subtract=\",diff)\n",
    "print(\"product=\",pro)\n",
    "print(\"divide=\",div)"
   ]
  },
  {
   "cell_type": "code",
   "execution_count": 61,
   "id": "83aa0a5c-0f09-4212-8190-c8d5b442e3b8",
   "metadata": {},
   "outputs": [
    {
     "name": "stdin",
     "output_type": "stream",
     "text": [
      "enter the value of b: 1\n",
      "enter the value of c: 2\n"
     ]
    },
    {
     "name": "stdout",
     "output_type": "stream",
     "text": [
      "maximum: 2\n",
      "minimum: 1\n"
     ]
    }
   ],
   "source": [
    "def max_min(a,b,c):\n",
    "    return max(a,b,c),min(a,b,c)\n",
    "    a=int(input(\"enter the value of a:\"))\n",
    "b=int(input(\"enter the value of b:\"))\n",
    "c=int(input(\"enter the value of c:\"))\n",
    "max1,min1=max_min(a,b,c)\n",
    "print(\"maximum:\",max1)\n",
    "print(\"minimum:\",min1)\n",
    "\n"
   ]
  },
  {
   "cell_type": "code",
   "execution_count": 71,
   "id": "9efd4b1b-9a37-42c5-bd4d-ee89fedfbf99",
   "metadata": {},
   "outputs": [
    {
     "name": "stdin",
     "output_type": "stream",
     "text": [
      "emter the number as space seperated: 34\n"
     ]
    },
    {
     "name": "stdout",
     "output_type": "stream",
     "text": [
      "even count: 1\n",
      "odd count: 0\n"
     ]
    }
   ],
   "source": [
    "def eo(numbers):\n",
    "    e=0\n",
    "    o=0\n",
    "    for n in numbers:\n",
    "        if n%2==0:\n",
    "            e+=1\n",
    "        else:\n",
    "            o+=1\n",
    "    return e,o\n",
    "num=input(\"emter the number as space seperated:\")\n",
    "num_list=list(map(int,num.split()))\n",
    "e,o=eo(num_list)\n",
    "print(\"even count:\",e)\n",
    "print(\"odd count:\",o)"
   ]
  },
  {
   "cell_type": "code",
   "execution_count": null,
   "id": "afc62c5d-9745-4cd6-b51b-a22c92539815",
   "metadata": {},
   "outputs": [],
   "source": []
  }
 ],
 "metadata": {
  "kernelspec": {
   "display_name": "Python 3 (ipykernel)",
   "language": "python",
   "name": "python3"
  },
  "language_info": {
   "codemirror_mode": {
    "name": "ipython",
    "version": 3
   },
   "file_extension": ".py",
   "mimetype": "text/x-python",
   "name": "python",
   "nbconvert_exporter": "python",
   "pygments_lexer": "ipython3",
   "version": "3.12.7"
  }
 },
 "nbformat": 4,
 "nbformat_minor": 5
}
