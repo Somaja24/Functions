{
 "cells": [
  {
   "cell_type": "code",
   "execution_count": 3,
   "id": "53e54be6-76bf-422c-a0b1-f4eead88e01a",
   "metadata": {},
   "outputs": [
    {
     "name": "stdout",
     "output_type": "stream",
     "text": [
      "this is a outer function...\n",
      "this is a inner function...\n"
     ]
    }
   ],
   "source": [
    "def outer():\n",
    "    print(\"this is a outer function...\")\n",
    "    def inner():\n",
    "         print(\"this is a inner function...\")\n",
    "    inner()\n",
    "outer()"
   ]
  },
  {
   "cell_type": "code",
   "execution_count": 15,
   "id": "15ac02f3-4b69-40fb-9f9c-b84e08493039",
   "metadata": {},
   "outputs": [
    {
     "name": "stdin",
     "output_type": "stream",
     "text": [
      "ebter a number: 3\n",
      "enter a number: 2\n"
     ]
    },
    {
     "name": "stdout",
     "output_type": "stream",
     "text": [
      "addtion 5\n",
      "subtraction 1\n",
      "multiplication 6\n",
      "division 1.5\n",
      "remainder 1\n",
      "inccrement 3\n"
     ]
    }
   ],
   "source": [
    "def call(a,b):\n",
    "    def add():\n",
    "        return a+b\n",
    "    def sub():\n",
    "        return a-b\n",
    "    def mul():\n",
    "        return a*b\n",
    "    def div():\n",
    "        return a/b\n",
    "    def remainder():\n",
    "        return a%b\n",
    "    def incc():\n",
    "        return a\n",
    "    print(\"addtion\", add())\n",
    "    print(\"subtraction\", sub())\n",
    "    print(\"multiplication\",mul())\n",
    "    print(\"division\",div())\n",
    "    print(\"remainder\",remainder())\n",
    "    print(\"inccrement\",incc())\n",
    "a=int(input(\"ebter a number:\"))\n",
    "b=int(input(\"enter a number:\"))\n",
    "call(a,b)"
   ]
  },
  {
   "cell_type": "code",
   "execution_count": 17,
   "id": "4108469b-38e7-41cf-9b14-0e933c0fc9a5",
   "metadata": {},
   "outputs": [
    {
     "name": "stdout",
     "output_type": "stream",
     "text": [
      "10\n",
      "30\n"
     ]
    }
   ],
   "source": [
    "def mul_by(n):\n",
    "    def inner(x):#inner function x=5\n",
    "        return x*n  #x*2  x*3\n",
    "    return inner\n",
    "times_2=mul_by(2) #n=2\n",
    "times_3=mul_by(3) #n=3\n",
    "print(times_2(5))\n",
    "print(times_3(10))"
   ]
  },
  {
   "cell_type": "code",
   "execution_count": 27,
   "id": "20602626-4ca3-4eb7-aa65-05aaecac8580",
   "metadata": {},
   "outputs": [
    {
     "name": "stdout",
     "output_type": "stream",
     "text": [
      "hello sir!!!!\n"
     ]
    }
   ],
   "source": [
    "def greet(text):\n",
    "    def inner(name):\n",
    "        return f\"{text} {name}!!!!\"\n",
    "    return inner\n",
    "hi=greet(\"hello\")\n",
    "print(hi(\"sir\"))"
   ]
  },
  {
   "cell_type": "code",
   "execution_count": 43,
   "id": "ab9b4c8f-e7ee-4364-9a3c-1b73e5b2bfff",
   "metadata": {},
   "outputs": [
    {
     "name": "stdout",
     "output_type": "stream",
     "text": [
      "hello !!! Mr.alice\n",
      "hello !!! Dr.jhon\n"
     ]
    }
   ],
   "source": [
    "def titled(title):\n",
    "    def greet(name):\n",
    "        return f\"hello !!! {title}{name}\"\n",
    "    return greet \n",
    "mr_greet=titled(\"Mr.\")\n",
    "dr_greet=titled(\"Dr.\")\n",
    "print(mr_greet(\"alice\"))\n",
    "print(dr_greet(\"jhon\"))"
   ]
  },
  {
   "cell_type": "code",
   "execution_count": 55,
   "id": "7aa328bd-719d-4ca1-b919-7ee8b0f6c0db",
   "metadata": {},
   "outputs": [
    {
     "name": "stdout",
     "output_type": "stream",
     "text": [
      "x= 22\n",
      "locally 32\n",
      "x= 100\n",
      "25\n",
      "latest value of y globally: 25\n",
      "globally 125\n"
     ]
    }
   ],
   "source": [
    "x=100\n",
    "y=10\n",
    "def display():\n",
    "    x=22\n",
    "    print(\"x=\",x)\n",
    "    print(\"locally\",x+y)\n",
    "display()\n",
    "print(\"x=\",x)\n",
    "y=10\n",
    "y=25\n",
    "print(y)\n",
    "print(\"latest value of y globally:\",y)\n",
    "print(\"globally\",x+y)"
   ]
  },
  {
   "cell_type": "code",
   "execution_count": 15,
   "id": "c123cded-f378-4319-be89-ec544e6849cb",
   "metadata": {},
   "outputs": [
    {
     "name": "stdin",
     "output_type": "stream",
     "text": [
      "enter marks of a subject: 45\n"
     ]
    },
    {
     "name": "stdout",
     "output_type": "stream",
     "text": [
      "subject1 marks: 45\n",
      "total marks stored  in global: 45\n"
     ]
    },
    {
     "name": "stdin",
     "output_type": "stream",
     "text": [
      "enter marks of a subject: 47\n"
     ]
    },
    {
     "name": "stdout",
     "output_type": "stream",
     "text": [
      "subject2 marks: 47\n",
      "total marks stored  in global: 92\n"
     ]
    },
    {
     "name": "stdin",
     "output_type": "stream",
     "text": [
      "enter marks of a subject: 48\n"
     ]
    },
    {
     "name": "stdout",
     "output_type": "stream",
     "text": [
      "subject3 marks: 48\n",
      "total marks stored  in global: 140\n",
      "average: 140.0\n"
     ]
    }
   ],
   "source": [
    "total=0\n",
    "def add_subject_marks():\n",
    "    global total\n",
    "    marks=int(input(\"enter marks of a subject:\"))\n",
    "    total+=marks\n",
    "    return marks\n",
    "    avg=total/1\n",
    "print(\"subject1 marks:\", add_subject_marks())\n",
    "print(\"total marks stored  in global:\", total)\n",
    "\n",
    "print(\"subject2 marks:\",add_subject_marks())\n",
    "print(\"total marks stored  in global:\", total)\n",
    "\n",
    "print(\"subject3 marks:\",add_subject_marks())\n",
    "print(\"total marks stored  in global:\", total)\n",
    "\n",
    "print(\"average:\",avg)"
   ]
  },
  {
   "cell_type": "code",
   "execution_count": 13,
   "id": "17060cb7-98f6-45d9-af39-29d3d34a6e50",
   "metadata": {},
   "outputs": [
    {
     "name": "stdin",
     "output_type": "stream",
     "text": [
      "enter marks  for  a subjec: 45\n"
     ]
    },
    {
     "name": "stdout",
     "output_type": "stream",
     "text": [
      "subject 1 marks: 45\n"
     ]
    },
    {
     "name": "stdin",
     "output_type": "stream",
     "text": [
      "enter marks  for  a subjec: 48\n"
     ]
    },
    {
     "name": "stdout",
     "output_type": "stream",
     "text": [
      "subject 2 marks: 48\n"
     ]
    },
    {
     "name": "stdin",
     "output_type": "stream",
     "text": [
      "enter marks  for  a subjec: 47\n"
     ]
    },
    {
     "name": "stdout",
     "output_type": "stream",
     "text": [
      "subject 3 marks: 47\n",
      "all subject marks: [45, 48, 47]\n",
      "total marks 140\n",
      "average 140.0\n"
     ]
    }
   ],
   "source": [
    "subject_marks=[]\n",
    "def add_subject_marks():\n",
    "    mark=int(input(\"enter marks  for  a subjec:\"))\n",
    "    subject_marks.append(mark)\n",
    "    return mark\n",
    "print(\"subject 1 marks:\", add_subject_marks())\n",
    "print(\"subject 2 marks:\",add_subject_marks())\n",
    "print(\"subject 3 marks:\",add_subject_marks())\n",
    "print(\"all subject marks:\",subject_marks)\n",
    "total=sum(subject_marks)\n",
    "avg=total/1\n",
    "print(\"total marks\",total)\n",
    "print(\"average\",avg)"
   ]
  },
  {
   "cell_type": "code",
   "execution_count": null,
   "id": "e92a5bb7-e6db-46f1-861b-654298f62ddb",
   "metadata": {},
   "outputs": [],
   "source": []
  }
 ],
 "metadata": {
  "kernelspec": {
   "display_name": "Python 3 (ipykernel)",
   "language": "python",
   "name": "python3"
  },
  "language_info": {
   "codemirror_mode": {
    "name": "ipython",
    "version": 3
   },
   "file_extension": ".py",
   "mimetype": "text/x-python",
   "name": "python",
   "nbconvert_exporter": "python",
   "pygments_lexer": "ipython3",
   "version": "3.12.7"
  }
 },
 "nbformat": 4,
 "nbformat_minor": 5
}
